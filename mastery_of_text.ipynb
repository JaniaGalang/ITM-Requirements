{
 "cells": [
  {
   "cell_type": "code",
   "execution_count": 1,
   "id": "adc919a4-0ba5-45c5-849a-03e19edc7dfa",
   "metadata": {},
   "outputs": [
    {
     "name": "stdout",
     "output_type": "stream",
     "text": [
      "Number of lines: 99968\n",
      "Number of words: 667621\n",
      "Number of occurrences of 'apostle': 113\n",
      "Most common word: the\n"
     ]
    }
   ],
   "source": [
    "from urllib.request import urlopen\n",
    "\n",
    "def fetch_text(url):\n",
    "  response = urlopen(url)\n",
    "  pg10 = response.read().decode('utf-8')\n",
    "  return pg10\n",
    "\n",
    "pg10 = fetch_text(\"https://www.gutenberg.org/cache/epub/10/pg10.txt\")\n",
    "\n",
    "# Function to count the number of lines in the text\n",
    "def count_lines(text):\n",
    "  return len(text.splitlines())\n",
    "\n",
    "# Function to count the number of words in the text\n",
    "def count_words(text):\n",
    "    words = [word.strip().lower() for word in text.split() if word.isalpha()]\n",
    "    return len(words)\n",
    "\n",
    "# Function to count the occurrences of a word in the text (ignoring case)\n",
    "def count_word_occurrences(text, word):\n",
    "  word_count = 0\n",
    "  for w in text.lower().split():\n",
    "    if w.startswith(word.lower()):\n",
    "      word_count += 1\n",
    "  return word_count\n",
    "\n",
    "# Function to find the most common word in the text (ignoring case)\n",
    "def find_most_common_word(text):\n",
    "  word_counts = {}\n",
    "  for word in text.lower().split():\n",
    "    if word in word_counts:\n",
    "      word_counts[word] += 1\n",
    "    else:\n",
    "      word_counts[word] = 1\n",
    "\n",
    "  # Find the word with the maximum count\n",
    "  most_common_word = max(word_counts, key=word_counts.get)\n",
    "  return most_common_word\n",
    "\n",
    "# Count the number of lines\n",
    "number_of_lines = count_lines(pg10)\n",
    "print(\"Number of lines:\", number_of_lines)\n",
    "\n",
    "# Count the number of words\n",
    "number_of_words = count_words(pg10)\n",
    "print(\"Number of words:\", number_of_words)\n",
    "\n",
    "# Count the occurrences of the word \"apostle\" (ignoring case)\n",
    "apostle_count = count_word_occurrences(pg10, \"apostle\")\n",
    "print(\"Number of occurrences of 'apostle':\", apostle_count)\n",
    "\n",
    "# Find the most common word (ignoring case)\n",
    "most_common_word = find_most_common_word(pg10)\n",
    "print(\"Most common word:\", most_common_word)"
   ]
  },
  {
   "cell_type": "code",
   "execution_count": null,
   "id": "3b8b3c11-eb73-4283-b639-ccd7231704f3",
   "metadata": {},
   "outputs": [],
   "source": []
  }
 ],
 "metadata": {
  "kernelspec": {
   "display_name": "Python 3 (ipykernel)",
   "language": "python",
   "name": "python3"
  },
  "language_info": {
   "codemirror_mode": {
    "name": "ipython",
    "version": 3
   },
   "file_extension": ".py",
   "mimetype": "text/x-python",
   "name": "python",
   "nbconvert_exporter": "python",
   "pygments_lexer": "ipython3",
   "version": "3.11.7"
  }
 },
 "nbformat": 4,
 "nbformat_minor": 5
}
