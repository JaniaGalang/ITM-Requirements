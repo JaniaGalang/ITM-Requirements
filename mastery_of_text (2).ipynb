{
 "cells": [
  {
   "cell_type": "code",
   "execution_count": 10,
   "id": "adc919a4-0ba5-45c5-849a-03e19edc7dfa",
   "metadata": {},
   "outputs": [
    {
     "name": "stdout",
     "output_type": "stream",
     "text": [
      "Number of lines: 99968\n",
      "Number of words: 795227\n",
      "Number of occurrences of 'apostle': 47\n",
      "Most common word (ignoring case): the\n"
     ]
    }
   ],
   "source": [
    "import urllib.request\n",
    "import re\n",
    "\n",
    "# Download the text from Project Gutenberg\n",
    "url = \"https://www.gutenberg.org/cache/epub/10/pg10.txt\"\n",
    "response = urllib.request.urlopen(url)\n",
    "pg10 = response.read().decode(\"utf-8\")\n",
    "\n",
    "# Function to count lines\n",
    "def count_lines(text):\n",
    "  return len(text.splitlines())\n",
    "    \n",
    "number_of_lines = count_lines(pg10)\n",
    "print(\"Number of lines:\", number_of_lines)\n",
    "\n",
    "# word count\n",
    "list_of_words = []\n",
    "word = []\n",
    "\n",
    "def is_letter(i):\n",
    "    return i.isalpha()\n",
    "\n",
    "for i in pg10:\n",
    "    if is_letter(i):\n",
    "        word.append(i)\n",
    "    elif word:\n",
    "        list_of_words.append(''.join(word))\n",
    "        word = []\n",
    "\n",
    "word_count = len(list_of_words)\n",
    "print(\"Number of words:\", number_of_words)\n",
    "\n",
    "# apostle count\n",
    "lowercase_list_of_words = [word.lower() for word in list_of_words]\n",
    "apostle_count = 0\n",
    "\n",
    "for word in lowercase_list_of_words:\n",
    "    if word == 'apostle':\n",
    "        apostle_count += 1\n",
    "\n",
    "print(\"Number of occurrences of 'apostle':\", apostle_count)\n",
    "\n",
    "# Function to find the most common word (ignoring case)\n",
    "def find_most_common_word(text):\n",
    "  words = text.lower().split()\n",
    "  word_counts = {}\n",
    "  for word in words:\n",
    "    if word in word_counts:\n",
    "      word_counts[word] += 1\n",
    "    else:\n",
    "      word_counts[word] = 1\n",
    "  most_common_word = max(word_counts, key=word_counts.get)\n",
    "  return most_common_word\n",
    "\n",
    "most_common_word = find_most_common_word(pg10)\n",
    "print(\"Most common word:\", most_common_word)"
   ]
  },
  {
   "cell_type": "code",
   "execution_count": null,
   "id": "3b8b3c11-eb73-4283-b639-ccd7231704f3",
   "metadata": {},
   "outputs": [],
   "source": []
  }
 ],
 "metadata": {
  "kernelspec": {
   "display_name": "Python 3 (ipykernel)",
   "language": "python",
   "name": "python3"
  },
  "language_info": {
   "codemirror_mode": {
    "name": "ipython",
    "version": 3
   },
   "file_extension": ".py",
   "mimetype": "text/x-python",
   "name": "python",
   "nbconvert_exporter": "python",
   "pygments_lexer": "ipython3",
   "version": "3.11.7"
  }
 },
 "nbformat": 4,
 "nbformat_minor": 5
}
